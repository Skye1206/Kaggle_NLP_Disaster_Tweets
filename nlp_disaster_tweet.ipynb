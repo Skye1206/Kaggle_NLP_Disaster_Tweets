{
 "cells": [
  {
   "cell_type": "code",
   "execution_count": 55,
   "metadata": {},
   "outputs": [],
   "source": [
    "import pandas as pd\n",
    "import matplotlib.pyplot as plt\n",
    "import seaborn as sns\n",
    "import numpy as np\n",
    "\n",
    "#stopwords\n",
    "from nltk.corpus import stopwords\n",
    "from nltk.util import ngrams\n",
    "stop=set(stopwords.words('english'))\n",
    "\n",
    "#split word in a sentence\n",
    "from nltk.tokenize import word_tokenize\n",
    "\n",
    "#spelling correction\n",
    "from spellchecker import SpellChecker\n",
    "\n",
    "#showing a progress bar\n",
    "from tqdm import tqdm\n",
    "\n",
    "import string\n",
    "import re\n",
    "from collections import defaultdict\n",
    "from collections import Counter\n",
    "\n",
    "from keras.preprocessing.text import Tokenizer\n",
    "from keras.preprocessing.sequence import pad_sequences\n",
    "from keras.models import Sequential, Model\n",
    "from keras.layers import Embedding, LSTM, Dense, SpatialDropout1D, Bidirectional, Input\n",
    "from keras.initializers import Constant\n",
    "from keras.optimizers import Adam\n",
    "from keras.callbacks import ModelCheckpoint\n",
    "\n",
    "from sklearn.model_selection import train_test_split\n",
    "\n",
    "import tensorflow as tf\n",
    "import tensorflow_hub as hub"
   ]
  },
  {
   "cell_type": "code",
   "execution_count": 2,
   "metadata": {},
   "outputs": [],
   "source": [
    "train_tweets = pd.read_csv('data/train.csv')\n",
    "test_tweets = pd.read_csv('data/test.csv')"
   ]
  },
  {
   "cell_type": "code",
   "execution_count": 3,
   "metadata": {},
   "outputs": [
    {
     "data": {
      "text/html": [
       "<div>\n",
       "<style scoped>\n",
       "    .dataframe tbody tr th:only-of-type {\n",
       "        vertical-align: middle;\n",
       "    }\n",
       "\n",
       "    .dataframe tbody tr th {\n",
       "        vertical-align: top;\n",
       "    }\n",
       "\n",
       "    .dataframe thead th {\n",
       "        text-align: right;\n",
       "    }\n",
       "</style>\n",
       "<table border=\"1\" class=\"dataframe\">\n",
       "  <thead>\n",
       "    <tr style=\"text-align: right;\">\n",
       "      <th></th>\n",
       "      <th>id</th>\n",
       "      <th>keyword</th>\n",
       "      <th>location</th>\n",
       "      <th>text</th>\n",
       "      <th>target</th>\n",
       "    </tr>\n",
       "  </thead>\n",
       "  <tbody>\n",
       "    <tr>\n",
       "      <th>0</th>\n",
       "      <td>1</td>\n",
       "      <td>NaN</td>\n",
       "      <td>NaN</td>\n",
       "      <td>Our Deeds are the Reason of this #earthquake M...</td>\n",
       "      <td>1</td>\n",
       "    </tr>\n",
       "    <tr>\n",
       "      <th>1</th>\n",
       "      <td>4</td>\n",
       "      <td>NaN</td>\n",
       "      <td>NaN</td>\n",
       "      <td>Forest fire near La Ronge Sask. Canada</td>\n",
       "      <td>1</td>\n",
       "    </tr>\n",
       "    <tr>\n",
       "      <th>2</th>\n",
       "      <td>5</td>\n",
       "      <td>NaN</td>\n",
       "      <td>NaN</td>\n",
       "      <td>All residents asked to 'shelter in place' are ...</td>\n",
       "      <td>1</td>\n",
       "    </tr>\n",
       "    <tr>\n",
       "      <th>3</th>\n",
       "      <td>6</td>\n",
       "      <td>NaN</td>\n",
       "      <td>NaN</td>\n",
       "      <td>13,000 people receive #wildfires evacuation or...</td>\n",
       "      <td>1</td>\n",
       "    </tr>\n",
       "    <tr>\n",
       "      <th>4</th>\n",
       "      <td>7</td>\n",
       "      <td>NaN</td>\n",
       "      <td>NaN</td>\n",
       "      <td>Just got sent this photo from Ruby #Alaska as ...</td>\n",
       "      <td>1</td>\n",
       "    </tr>\n",
       "  </tbody>\n",
       "</table>\n",
       "</div>"
      ],
      "text/plain": [
       "   id keyword location                                               text  \\\n",
       "0   1     NaN      NaN  Our Deeds are the Reason of this #earthquake M...   \n",
       "1   4     NaN      NaN             Forest fire near La Ronge Sask. Canada   \n",
       "2   5     NaN      NaN  All residents asked to 'shelter in place' are ...   \n",
       "3   6     NaN      NaN  13,000 people receive #wildfires evacuation or...   \n",
       "4   7     NaN      NaN  Just got sent this photo from Ruby #Alaska as ...   \n",
       "\n",
       "   target  \n",
       "0       1  \n",
       "1       1  \n",
       "2       1  \n",
       "3       1  \n",
       "4       1  "
      ]
     },
     "execution_count": 3,
     "metadata": {},
     "output_type": "execute_result"
    }
   ],
   "source": [
    "train_tweets.head()"
   ]
  },
  {
   "cell_type": "code",
   "execution_count": 4,
   "metadata": {},
   "outputs": [
    {
     "data": {
      "text/plain": [
       "0       [Our, Deeds, are, the, Reason, of, this, #eart...\n",
       "1          [Forest, fire, near, La, Ronge, Sask., Canada]\n",
       "2       [All, residents, asked, to, 'shelter, in, plac...\n",
       "3       [13,000, people, receive, #wildfires, evacuati...\n",
       "4       [Just, got, sent, this, photo, from, Ruby, #Al...\n",
       "                              ...                        \n",
       "7608    [Two, giant, cranes, holding, a, bridge, colla...\n",
       "7609    [@aria_ahrary, @TheTawniest, The, out, of, con...\n",
       "7610    [M1.94, [01:04, UTC]?5km, S, of, Volcano, Hawa...\n",
       "7611    [Police, investigating, after, an, e-bike, col...\n",
       "7612    [The, Latest:, More, Homes, Razed, by, Norther...\n",
       "Name: text, Length: 7613, dtype: object"
      ]
     },
     "execution_count": 4,
     "metadata": {},
     "output_type": "execute_result"
    }
   ],
   "source": [
    "train_tweets['text'].str.split()"
   ]
  },
  {
   "cell_type": "code",
   "execution_count": 5,
   "metadata": {},
   "outputs": [
    {
     "data": {
      "text/html": [
       "<div>\n",
       "<style scoped>\n",
       "    .dataframe tbody tr th:only-of-type {\n",
       "        vertical-align: middle;\n",
       "    }\n",
       "\n",
       "    .dataframe tbody tr th {\n",
       "        vertical-align: top;\n",
       "    }\n",
       "\n",
       "    .dataframe thead th {\n",
       "        text-align: right;\n",
       "    }\n",
       "</style>\n",
       "<table border=\"1\" class=\"dataframe\">\n",
       "  <thead>\n",
       "    <tr style=\"text-align: right;\">\n",
       "      <th></th>\n",
       "      <th>id</th>\n",
       "      <th>keyword</th>\n",
       "      <th>location</th>\n",
       "      <th>text</th>\n",
       "    </tr>\n",
       "  </thead>\n",
       "  <tbody>\n",
       "    <tr>\n",
       "      <th>0</th>\n",
       "      <td>0</td>\n",
       "      <td>NaN</td>\n",
       "      <td>NaN</td>\n",
       "      <td>Just happened a terrible car crash</td>\n",
       "    </tr>\n",
       "    <tr>\n",
       "      <th>1</th>\n",
       "      <td>2</td>\n",
       "      <td>NaN</td>\n",
       "      <td>NaN</td>\n",
       "      <td>Heard about #earthquake is different cities, s...</td>\n",
       "    </tr>\n",
       "    <tr>\n",
       "      <th>2</th>\n",
       "      <td>3</td>\n",
       "      <td>NaN</td>\n",
       "      <td>NaN</td>\n",
       "      <td>there is a forest fire at spot pond, geese are...</td>\n",
       "    </tr>\n",
       "    <tr>\n",
       "      <th>3</th>\n",
       "      <td>9</td>\n",
       "      <td>NaN</td>\n",
       "      <td>NaN</td>\n",
       "      <td>Apocalypse lighting. #Spokane #wildfires</td>\n",
       "    </tr>\n",
       "    <tr>\n",
       "      <th>4</th>\n",
       "      <td>11</td>\n",
       "      <td>NaN</td>\n",
       "      <td>NaN</td>\n",
       "      <td>Typhoon Soudelor kills 28 in China and Taiwan</td>\n",
       "    </tr>\n",
       "  </tbody>\n",
       "</table>\n",
       "</div>"
      ],
      "text/plain": [
       "   id keyword location                                               text\n",
       "0   0     NaN      NaN                 Just happened a terrible car crash\n",
       "1   2     NaN      NaN  Heard about #earthquake is different cities, s...\n",
       "2   3     NaN      NaN  there is a forest fire at spot pond, geese are...\n",
       "3   9     NaN      NaN           Apocalypse lighting. #Spokane #wildfires\n",
       "4  11     NaN      NaN      Typhoon Soudelor kills 28 in China and Taiwan"
      ]
     },
     "execution_count": 5,
     "metadata": {},
     "output_type": "execute_result"
    }
   ],
   "source": [
    "test_tweets.head()"
   ]
  },
  {
   "cell_type": "markdown",
   "metadata": {},
   "source": [
    "### EDA(Exploratory Data Analysis)\n",
    "#### number of characters; number of words\n",
    "#### common stopwords\n",
    "#### punctuations\n",
    "#### Common words"
   ]
  },
  {
   "cell_type": "markdown",
   "metadata": {},
   "source": [
    "#### Number of characters in training data"
   ]
  },
  {
   "cell_type": "code",
   "execution_count": 6,
   "metadata": {},
   "outputs": [
    {
     "data": {
      "text/plain": [
       "Text(0.5, 0.98, 'Characters in Tweets')"
      ]
     },
     "execution_count": 6,
     "metadata": {},
     "output_type": "execute_result"
    },
    {
     "data": {
      "image/png": "[encoded data removed]",
      "text/plain": [
       "<Figure size 720x360 with 2 Axes>"
      ]
     },
     "metadata": {
      "needs_background": "light"
     },
     "output_type": "display_data"
    }
   ],
   "source": [
    "#number of characters for disaster tweets and not disaster tweets\n",
    "disaster_tweets_len = train_tweets[train_tweets['target'] == 1]['text'].str.len()\n",
    "not_disaster_tweets_len = train_tweets[train_tweets['target'] == 0]['text'].str.len()\n",
    "\n",
    "#hist\n",
    "fig,(ax1,ax2)=plt.subplots(1,2,figsize=(10,5))\n",
    "sns.distplot(disaster_tweets_len,color = 'red', ax=ax1)\n",
    "ax1.set_title('Disaster Tweets')\n",
    "sns.distplot(not_disaster_tweets_len, color = 'green', ax = ax2)\n",
    "ax2.set_title('Not Disaster Tweets')\n",
    "fig.suptitle('Characters in Tweets')"
   ]
  },
  {
   "cell_type": "markdown",
   "metadata": {},
   "source": [
    "#### Number of words in training data"
   ]
  },
  {
   "cell_type": "code",
   "execution_count": 7,
   "metadata": {},
   "outputs": [
    {
     "data": {
      "text/plain": [
       "Text(0.5, 0.98, 'Words in Tweets')"
      ]
     },
     "execution_count": 7,
     "metadata": {},
     "output_type": "execute_result"
    },
    {
     "data": {
      "image/png": "[encoded data removed]",
      "text/plain": [
       "<Figure size 720x360 with 2 Axes>"
      ]
     },
     "metadata": {
      "needs_background": "light"
     },
     "output_type": "display_data"
    }
   ],
   "source": [
    "#number of characters for disaster tweets and not disaster tweets\n",
    "disaster_tweets_words = train_tweets[train_tweets['target'] == 1]['text'].str.split().map(lambda x: len(x))\n",
    "not_disaster_tweets_words = train_tweets[train_tweets['target'] == 0]['text'].str.split().map(lambda x: len(x))\n",
    "\n",
    "#hist\n",
    "fig,(ax1,ax2)=plt.subplots(1,2,figsize=(10,5))\n",
    "sns.distplot(disaster_tweets_words,color = 'red', ax=ax1)\n",
    "ax1.set_title('Disaster Tweets')\n",
    "sns.distplot(not_disaster_tweets_words, color = 'green', ax = ax2)\n",
    "ax2.set_title('Not Disaster Tweets')\n",
    "fig.suptitle('Words in Tweets')\n"
   ]
  },
  {
   "cell_type": "code",
   "execution_count": 8,
   "metadata": {},
   "outputs": [],
   "source": [
    "#corpus\n",
    "\n",
    "def create_corpus(target):\n",
    "    corpus = []\n",
    "    \n",
    "    for tweet in train_tweets[train_tweets['target'] == target]['text'].str.split():\n",
    "        for word in tweet:\n",
    "            corpus.append(word)\n",
    "            \n",
    "    return corpus"
   ]
  },
  {
   "cell_type": "markdown",
   "metadata": {},
   "source": [
    "#### Common stopwords in tweets"
   ]
  },
  {
   "cell_type": "code",
   "execution_count": 9,
   "metadata": {},
   "outputs": [
    {
     "name": "stdout",
     "output_type": "stream",
     "text": [
      "[('the', 1051), ('in', 1037), ('of', 888), ('a', 730), ('to', 706), ('and', 462), ('on', 386), ('for', 368), ('is', 302), ('at', 273)]\n"
     ]
    }
   ],
   "source": [
    "#class 1\n",
    "dic_stop_1 = defaultdict(int)\n",
    "\n",
    "corpus_1 = create_corpus(1)\n",
    "for word in corpus_1:\n",
    "    if word in stop:\n",
    "        dic_stop_1[word] += 1\n",
    "        \n",
    "top_stop_1 = sorted(dic_stop_1.items(), key = lambda x : x[1],reverse=True)[:10] \n",
    "print(top_stop_1)"
   ]
  },
  {
   "cell_type": "code",
   "execution_count": 10,
   "metadata": {},
   "outputs": [
    {
     "data": {
      "text/plain": [
       "<BarContainer object of 10 artists>"
      ]
     },
     "execution_count": 10,
     "metadata": {},
     "output_type": "execute_result"
    },
    {
     "data": {
      "image/png": "[encoded data removed]",
      "text/plain": [
       "<Figure size 432x288 with 1 Axes>"
      ]
     },
     "metadata": {
      "needs_background": "light"
     },
     "output_type": "display_data"
    }
   ],
   "source": [
    "x,y=zip(*top_stop_1)\n",
    "plt.bar(x,y, color = 'red', alpha = 0.5)"
   ]
  },
  {
   "cell_type": "code",
   "execution_count": 11,
   "metadata": {},
   "outputs": [
    {
     "name": "stdout",
     "output_type": "stream",
     "text": [
      "[('the', 1524), ('a', 1115), ('to', 1099), ('and', 840), ('of', 834), ('in', 720), ('you', 529), ('is', 512), ('for', 452), ('my', 442)]\n"
     ]
    }
   ],
   "source": [
    "#class 0\n",
    "dic_stop_0 = defaultdict(int)\n",
    "\n",
    "corpus_0 = create_corpus(0)\n",
    "for word in corpus_0:\n",
    "    if word in stop:\n",
    "        dic_stop_0[word] += 1\n",
    "        \n",
    "top_stop_0 = sorted(dic_stop_0.items(), key = lambda x : x[1],reverse=True)[:10] \n",
    "print(top_stop_0)"
   ]
  },
  {
   "cell_type": "code",
   "execution_count": 12,
   "metadata": {},
   "outputs": [
    {
     "data": {
      "text/plain": [
       "<BarContainer object of 10 artists>"
      ]
     },
     "execution_count": 12,
     "metadata": {},
     "output_type": "execute_result"
    },
    {
     "data": {
      "image/png": "[encoded data removed]",
      "text/plain": [
       "<Figure size 432x288 with 1 Axes>"
      ]
     },
     "metadata": {
      "needs_background": "light"
     },
     "output_type": "display_data"
    }
   ],
   "source": [
    "x,y=zip(*top_stop_0)\n",
    "plt.bar(x,y, color = 'green', alpha = 0.5)"
   ]
  },
  {
   "cell_type": "markdown",
   "metadata": {},
   "source": [
    "#### Analyzing punctuatiions"
   ]
  },
  {
   "cell_type": "code",
   "execution_count": 13,
   "metadata": {},
   "outputs": [
    {
     "data": {
      "text/plain": [
       "<BarContainer object of 18 artists>"
      ]
     },
     "execution_count": 13,
     "metadata": {},
     "output_type": "execute_result"
    },
    {
     "data": {
      "image/png": "[encoded data removed]",
      "text/plain": [
       "<Figure size 432x288 with 1 Axes>"
      ]
     },
     "metadata": {
      "needs_background": "light"
     },
     "output_type": "display_data"
    }
   ],
   "source": [
    "punctuation = string.punctuation\n",
    "\n",
    "#class 1\n",
    "dic_punc_1 = defaultdict(int)\n",
    "\n",
    "for word in corpus_1:\n",
    "    if word in punctuation:\n",
    "        dic_punc_1[word] += 1\n",
    "\n",
    "x,y=zip(*dic_punc_1.items())\n",
    "plt.bar(x,y, color = 'red', alpha = 0.5)"
   ]
  },
  {
   "cell_type": "code",
   "execution_count": 14,
   "metadata": {},
   "outputs": [
    {
     "data": {
      "text/plain": [
       "<BarContainer object of 20 artists>"
      ]
     },
     "execution_count": 14,
     "metadata": {},
     "output_type": "execute_result"
    },
    {
     "data": {
      "image/png": "[encoded data removed]",
      "text/plain": [
       "<Figure size 432x288 with 1 Axes>"
      ]
     },
     "metadata": {
      "needs_background": "light"
     },
     "output_type": "display_data"
    }
   ],
   "source": [
    "#class 0\n",
    "dic_punc_0 = defaultdict(int)\n",
    "\n",
    "for word in corpus_0:\n",
    "    if word in punctuation:\n",
    "        dic_punc_0[word] += 1\n",
    "\n",
    "x,y=zip(*dic_punc_0.items())\n",
    "plt.bar(x,y, color = 'green', alpha = 0.5)"
   ]
  },
  {
   "cell_type": "markdown",
   "metadata": {},
   "source": [
    "#### Common words"
   ]
  },
  {
   "cell_type": "code",
   "execution_count": 15,
   "metadata": {},
   "outputs": [
    {
     "data": {
      "text/plain": [
       "<matplotlib.axes._subplots.AxesSubplot at 0x1a572af110>"
      ]
     },
     "execution_count": 15,
     "metadata": {},
     "output_type": "execute_result"
    },
    {
     "data": {
      "image/png": "[encoded data removed]",
      "text/plain": [
       "<Figure size 432x288 with 1 Axes>"
      ]
     },
     "metadata": {
      "needs_background": "light"
     },
     "output_type": "display_data"
    }
   ],
   "source": [
    "corpus = corpus_0 + corpus_1\n",
    "counter = Counter(corpus)\n",
    "common = counter.most_common()\n",
    "\n",
    "x, y = [], []\n",
    "for word, count in common[:50]:\n",
    "    if word not in stop:\n",
    "        x.append(word)\n",
    "        y.append(count)\n",
    "        \n",
    "sns.barplot(x,y)"
   ]
  },
  {
   "cell_type": "markdown",
   "metadata": {},
   "source": [
    "### Data Cleaning\n",
    "#### Remove urls; HTML tags;  punctuations"
   ]
  },
  {
   "cell_type": "code",
   "execution_count": 16,
   "metadata": {},
   "outputs": [
    {
     "data": {
      "text/plain": [
       "(10876, 5)"
      ]
     },
     "execution_count": 16,
     "metadata": {},
     "output_type": "execute_result"
    }
   ],
   "source": [
    "#train+test\n",
    "data = pd.concat([train_tweets, test_tweets])\n",
    "data.shape"
   ]
  },
  {
   "cell_type": "markdown",
   "metadata": {},
   "source": [
    "#### Remove urls"
   ]
  },
  {
   "cell_type": "code",
   "execution_count": 17,
   "metadata": {},
   "outputs": [
    {
     "data": {
      "text/plain": [
       "'New competition launched : babaa'"
      ]
     },
     "execution_count": 17,
     "metadata": {},
     "output_type": "execute_result"
    }
   ],
   "source": [
    "example=\"New competition launched :https://www.kaggle.com/c/nlp-getting-started, babaa\"\n",
    "\n",
    "def remove_URL(text):\n",
    "    url = re.compile(r'https?://\\S+|www\\.\\S+')\n",
    "    return url.sub(r'',text)\n",
    "\n",
    "remove_URL(example)"
   ]
  },
  {
   "cell_type": "code",
   "execution_count": 18,
   "metadata": {},
   "outputs": [],
   "source": [
    "data['text']=data['text'].apply(lambda x : remove_URL(x))"
   ]
  },
  {
   "cell_type": "markdown",
   "metadata": {},
   "source": [
    "#### Remove HTML tags"
   ]
  },
  {
   "cell_type": "code",
   "execution_count": 19,
   "metadata": {},
   "outputs": [
    {
     "data": {
      "text/plain": [
       "'\\nReal or Fake\\nKaggle \\ngetting started\\n'"
      ]
     },
     "execution_count": 19,
     "metadata": {},
     "output_type": "execute_result"
    }
   ],
   "source": [
    "example = \"\"\"<div>\n",
    "<h1>Real or Fake</h1>\n",
    "<p>Kaggle </p>\n",
    "<a href=\"https://www.kaggle.com/c/nlp-getting-started\">getting started</a>\n",
    "</div>\"\"\"\n",
    "\n",
    "def remove_html(text):\n",
    "    html=re.compile(r'<.*?>')\n",
    "    return html.sub(r'',text)\n",
    "\n",
    "remove_html(example)"
   ]
  },
  {
   "cell_type": "code",
   "execution_count": 20,
   "metadata": {},
   "outputs": [],
   "source": [
    "data['text']=data['text'].apply(lambda x : remove_html(x))"
   ]
  },
  {
   "cell_type": "markdown",
   "metadata": {},
   "source": [
    "#### Rmove Emojis"
   ]
  },
  {
   "cell_type": "code",
   "execution_count": 21,
   "metadata": {},
   "outputs": [
    {
     "name": "stdout",
     "output_type": "stream",
     "text": [
      "Omg another Earthquake \n",
      "Omg another Earthquake \n",
      "Omg another Earthquake \n",
      "Omg another Earthquake ⌨\n"
     ]
    }
   ],
   "source": [
    "# Reference : https://gist.github.com/slowkow/7a7f61f495e3dbb7e3d767f97bd7304b\n",
    "def remove_emoji(string):\n",
    "    emoji_pattern = re.compile(\"[\"\n",
    "                               u\"\\U0001F600-\\U0001F64F\"  # emoticons\n",
    "                               u\"\\U0001F300-\\U0001F5FF\"  # symbols & pictographs\n",
    "                               u\"\\U0001F680-\\U0001F6FF\"  # transport & map symbols\n",
    "                               u\"\\U0001F1E0-\\U0001F1FF\"  # flags (iOS)\n",
    "                               u\"\\U00002500-\\U00002BEF\"  # chinese char\n",
    "                               u\"\\U00002702-\\U000027B0\"\n",
    "                               u\"\\U00002702-\\U000027B0\"\n",
    "                               u\"\\U000024C2-\\U0001F251\"\n",
    "                               u\"\\U0001f926-\\U0001f937\"\n",
    "                               u\"\\U00010000-\\U0010ffff\"\n",
    "                               u\"\\u2640-\\u2642\"\n",
    "                               u\"\\u2600-\\u2B55\"\n",
    "                               u\"\\u200d\"\n",
    "                               u\"\\u23cf\"\n",
    "                               u\"\\u23e9\"\n",
    "                               u\"\\u231a\"\n",
    "                               u\"\\ufe0f\"  # dingbats\n",
    "                               u\"\\u3030\"\n",
    "                               \"]+\", flags=re.UNICODE)\n",
    "    return emoji_pattern.sub(r'', string)\n",
    "\n",
    "print(remove_emoji(\"Omg another Earthquake 😔😔\"))\n",
    "print(remove_emoji(\"Omg another Earthquake 哈\"))\n",
    "print(remove_emoji(\"Omg another Earthquake \"))\n",
    "print(remove_emoji(\"Omg another Earthquake ⌨️\"))"
   ]
  },
  {
   "cell_type": "code",
   "execution_count": 22,
   "metadata": {},
   "outputs": [],
   "source": [
    "data['text']=data['text'].apply(lambda x : remove_emoji(x))"
   ]
  },
  {
   "cell_type": "markdown",
   "metadata": {},
   "source": [
    "#### Remove punctuations"
   ]
  },
  {
   "cell_type": "code",
   "execution_count": 23,
   "metadata": {},
   "outputs": [
    {
     "name": "stdout",
     "output_type": "stream",
     "text": [
      "I am a king\n"
     ]
    }
   ],
   "source": [
    "def remove_punct(text):\n",
    "    table=str.maketrans('','',string.punctuation)\n",
    "    return text.translate(table)\n",
    "\n",
    "example=\"I am a #king^_^\"\n",
    "print(remove_punct(example))"
   ]
  },
  {
   "cell_type": "code",
   "execution_count": 24,
   "metadata": {},
   "outputs": [],
   "source": [
    "data['text']=data['text'].apply(lambda x : remove_punct(x))"
   ]
  },
  {
   "cell_type": "markdown",
   "metadata": {},
   "source": [
    "#### Spelling Correction"
   ]
  },
  {
   "cell_type": "code",
   "execution_count": 27,
   "metadata": {},
   "outputs": [
    {
     "data": {
      "text/plain": [
       "'correct me please'"
      ]
     },
     "execution_count": 27,
     "metadata": {},
     "output_type": "execute_result"
    }
   ],
   "source": [
    "spell = SpellChecker()\n",
    "\n",
    "def correct_spellings(text):\n",
    "    corrected_text = []\n",
    "    misspelled_words = spell.unknown(text.split())\n",
    "    for word in text.split():\n",
    "        if word in misspelled_words:\n",
    "            corrected_text.append(spell.correction(word))\n",
    "        else:\n",
    "            corrected_text.append(word)\n",
    "    return \" \".join(corrected_text)\n",
    "        \n",
    "text = \"corect me pleaee\"\n",
    "correct_spellings(text)"
   ]
  },
  {
   "cell_type": "code",
   "execution_count": 28,
   "metadata": {},
   "outputs": [],
   "source": [
    "data['text']=data['text'].apply(lambda x : correct_spellings(x))"
   ]
  },
  {
   "cell_type": "markdown",
   "metadata": {},
   "source": [
    "### GloVe"
   ]
  },
  {
   "cell_type": "code",
   "execution_count": 29,
   "metadata": {},
   "outputs": [],
   "source": [
    "def create_corpus(text):\n",
    "    corpus=[]\n",
    "    for tweet in tqdm(text):\n",
    "        \n",
    "        words = []\n",
    "        for word in word_tokenize(tweet):\n",
    "            word = word.lower()\n",
    "            if word.isalpha() and word not in stop: words.append(word)\n",
    "    \n",
    "        corpus.append(words)\n",
    "    return corpus"
   ]
  },
  {
   "cell_type": "code",
   "execution_count": 30,
   "metadata": {},
   "outputs": [
    {
     "name": "stderr",
     "output_type": "stream",
     "text": [
      "100%|██████████| 10876/10876 [00:01<00:00, 9629.13it/s]\n"
     ]
    }
   ],
   "source": [
    "corpus = create_corpus(data['text'])"
   ]
  },
  {
   "cell_type": "code",
   "execution_count": 31,
   "metadata": {},
   "outputs": [
    {
     "data": {
      "text/plain": [
       "[['deeds', 'reason', 'earthquake', 'may', 'allah', 'forgive', 'us'],\n",
       " ['forest', 'fire', 'near', 'la', 'ronge', 'sask', 'canada'],\n",
       " ['residents',\n",
       "  'asked',\n",
       "  'shelter',\n",
       "  'place',\n",
       "  'notified',\n",
       "  'officers',\n",
       "  'evacuation',\n",
       "  'shelter',\n",
       "  'place',\n",
       "  'orders',\n",
       "  'expected'],\n",
       " ['people', 'receive', 'wildfires', 'evacuation', 'orders', 'california'],\n",
       " ['got',\n",
       "  'sent',\n",
       "  'photo',\n",
       "  'ruby',\n",
       "  'alaska',\n",
       "  'smoke',\n",
       "  'wildfires',\n",
       "  'pours',\n",
       "  'school'],\n",
       " ['rockyfire',\n",
       "  'update',\n",
       "  'california',\n",
       "  'hwy',\n",
       "  'closed',\n",
       "  'directions',\n",
       "  'due',\n",
       "  'lake',\n",
       "  'county',\n",
       "  'fire',\n",
       "  'cafire',\n",
       "  'wildfires'],\n",
       " ['flood',\n",
       "  'disaster',\n",
       "  'heavy',\n",
       "  'rain',\n",
       "  'causes',\n",
       "  'flash',\n",
       "  'flooding',\n",
       "  'streets',\n",
       "  'manitou',\n",
       "  'colorado',\n",
       "  'springs',\n",
       "  'areas'],\n",
       " ['im', 'top', 'hill', 'see', 'fire', 'woods'],\n",
       " ['theres',\n",
       "  'emergency',\n",
       "  'evacuation',\n",
       "  'happening',\n",
       "  'building',\n",
       "  'across',\n",
       "  'street'],\n",
       " ['im', 'afraid', 'tornado', 'coming', 'area']]"
      ]
     },
     "execution_count": 31,
     "metadata": {},
     "output_type": "execute_result"
    }
   ],
   "source": [
    "corpus[:10]"
   ]
  },
  {
   "cell_type": "code",
   "execution_count": 32,
   "metadata": {},
   "outputs": [],
   "source": [
    "embedding_dict={}\n",
    "with open('glove/glove.6B.100d.txt','r') as f:\n",
    "    for line in f:\n",
    "        values = line.split()\n",
    "        word = values[0]\n",
    "        vectors = np.asarray(values[1:], dtype = np.float32)\n",
    "        embedding_dict[word]=vectors\n",
    "f.close()"
   ]
  },
  {
   "cell_type": "code",
   "execution_count": 33,
   "metadata": {},
   "outputs": [
    {
     "data": {
      "text/plain": [
       "array([-0.51682 ,  0.49154 ,  0.66964 ,  0.40753 ,  0.034442,  0.24418 ,\n",
       "       -0.13243 ,  0.73563 , -0.40207 , -0.5769  ,  0.096792, -0.20483 ,\n",
       "        0.26341 , -0.42977 ,  0.060235,  0.31668 ,  1.4883  ,  0.47245 ,\n",
       "       -0.26586 ,  0.47824 , -0.11281 ,  0.42528 ,  0.5677  ,  0.4602  ,\n",
       "       -0.093104,  0.32335 , -0.23002 , -0.16198 , -1.2648  , -0.36222 ,\n",
       "       -0.88619 , -0.035982,  0.36223 , -0.25235 , -0.060168, -0.25055 ,\n",
       "       -0.34484 ,  0.21948 ,  0.48187 ,  0.3856  , -0.76828 , -0.25247 ,\n",
       "       -0.27788 ,  0.096147,  1.2709  ,  0.43127 , -0.32322 ,  0.65685 ,\n",
       "       -0.034062, -0.49976 , -0.034357, -0.74292 , -0.34103 ,  0.74702 ,\n",
       "        0.89229 , -1.6595  ,  0.35286 , -0.50011 ,  1.308   , -0.050792,\n",
       "        0.43306 ,  0.82356 , -0.12208 , -0.61102 ,  0.86892 ,  0.176   ,\n",
       "        0.73954 ,  0.10994 ,  1.1845  , -0.39517 , -0.30585 , -0.27726 ,\n",
       "        0.89918 , -0.49852 ,  0.028042, -0.83807 ,  0.32606 ,  0.542   ,\n",
       "       -0.47404 ,  1.1243  ,  0.44922 ,  0.17852 , -0.61104 ,  0.073757,\n",
       "        0.20661 ,  0.095009, -0.10412 , -0.12496 ,  0.69893 ,  1.5468  ,\n",
       "        0.13942 , -1.8095  , -0.58513 ,  1.3002  , -0.94687 ,  0.049069,\n",
       "       -0.39485 ,  0.026521,  0.31274 , -0.95346 ], dtype=float32)"
      ]
     },
     "execution_count": 33,
     "metadata": {},
     "output_type": "execute_result"
    }
   ],
   "source": [
    "embedding_dict['forest']"
   ]
  },
  {
   "cell_type": "code",
   "execution_count": 34,
   "metadata": {},
   "outputs": [
    {
     "name": "stdout",
     "output_type": "stream",
     "text": [
      "{'deeds': 1, 'reason': 2, 'earthquake': 3, 'may': 4, 'allah': 5, 'forgive': 6, 'us': 7, 'forest': 8, 'fire': 9, 'near': 10, 'la': 11, 'ronge': 12, 'sask': 13, 'canada': 14}\n",
      "[[1, 2, 3, 4, 5, 6, 7], [8, 9, 10, 11, 12, 13, 14]]\n",
      "[[ 0  0  0  1  2  3  4  5  6  7]\n",
      " [ 0  0  0  8  9 10 11 12 13 14]]\n"
     ]
    }
   ],
   "source": [
    "#example\n",
    "tok =Tokenizer()\n",
    "tok.fit_on_texts(corpus[:2])\n",
    "word_index = tok.word_index\n",
    "print(word_index)\n",
    "sequences = tok.texts_to_sequences(corpus[:2])\n",
    "print(sequences)\n",
    "\n",
    "#转化成词袋序列\n",
    "maxlen = 10\n",
    "from keras.preprocessing import sequence\n",
    "x = sequence.pad_sequences(sequences, maxlen,dtype='int16')\n",
    "print(x)"
   ]
  },
  {
   "cell_type": "code",
   "execution_count": 35,
   "metadata": {},
   "outputs": [
    {
     "data": {
      "text/plain": [
       "array([[ 3,  4,  5,  6,  7],\n",
       "       [10, 11, 12, 13, 14]], dtype=int32)"
      ]
     },
     "execution_count": 35,
     "metadata": {},
     "output_type": "execute_result"
    }
   ],
   "source": [
    "pad_sequences(sequences,maxlen=5,padding='post')"
   ]
  },
  {
   "cell_type": "code",
   "execution_count": 36,
   "metadata": {},
   "outputs": [
    {
     "name": "stdout",
     "output_type": "stream",
     "text": [
      "Number of unique words: 19723\n"
     ]
    }
   ],
   "source": [
    "#create index for every word\n",
    "MAX_LEN=50\n",
    "tokenizer =Tokenizer()\n",
    "tokenizer.fit_on_texts(corpus)\n",
    "word_index = tokenizer.word_index\n",
    "sequences = tokenizer.texts_to_sequences(corpus)\n",
    "tweet_pad = pad_sequences(sequences,maxlen = MAX_LEN,truncating = 'post',padding = 'post') #在序列后缩短，填充\n",
    "\n",
    "num_words = len(word_index)\n",
    "print('Number of unique words:', num_words)"
   ]
  },
  {
   "cell_type": "code",
   "execution_count": 37,
   "metadata": {},
   "outputs": [
    {
     "name": "stderr",
     "output_type": "stream",
     "text": [
      "100%|██████████| 19723/19723 [00:00<00:00, 424170.41it/s]\n"
     ]
    }
   ],
   "source": [
    "#embedding_matrix = {index: vectors}\n",
    "embedding_matrix = np.zeros((num_words+1, 100))\n",
    "\n",
    "for word, i in tqdm(word_index.items()):     \n",
    "    embedding_vec = embedding_dict.get(word)\n",
    "    \n",
    "    if embedding_vec is not None:\n",
    "        embedding_matrix[i] = embedding_vec"
   ]
  },
  {
   "cell_type": "markdown",
   "metadata": {},
   "source": [
    "### Model"
   ]
  },
  {
   "cell_type": "markdown",
   "metadata": {},
   "source": [
    "### Unidirectional LSTM"
   ]
  },
  {
   "cell_type": "code",
   "execution_count": 146,
   "metadata": {
    "scrolled": true
   },
   "outputs": [],
   "source": [
    "model = Sequential()\n",
    "\n",
    "embedding=Embedding(num_words+1, 100, embeddings_initializer = Constant(embedding_matrix), input_length = MAX_LEN,trainable = False)\n",
    "\n",
    "model.add(embedding)\n",
    "model.add(SpatialDropout1D(0.2))\n",
    "model.add(LSTM(64, dropout = 0.2, recurrent_dropout=0.2))\n",
    "model.add(Dense(1, activation = 'sigmoid'))\n",
    "\n",
    "\n",
    "optimzer = Adam(learning_rate = 1e-5)\n",
    "\n",
    "model.compile(loss = 'binary_crossentropy',optimizer = optimzer,metrics = ['accuracy'])"
   ]
  },
  {
   "cell_type": "code",
   "execution_count": 147,
   "metadata": {},
   "outputs": [
    {
     "name": "stdout",
     "output_type": "stream",
     "text": [
      "Model: \"sequential_2\"\n",
      "_________________________________________________________________\n",
      "Layer (type)                 Output Shape              Param #   \n",
      "=================================================================\n",
      "embedding_2 (Embedding)      (None, 50, 100)           1972400   \n",
      "_________________________________________________________________\n",
      "spatial_dropout1d_1 (Spatial (None, 50, 100)           0         \n",
      "_________________________________________________________________\n",
      "lstm_1 (LSTM)                (None, 64)                42240     \n",
      "_________________________________________________________________\n",
      "dense_1 (Dense)              (None, 1)                 65        \n",
      "=================================================================\n",
      "Total params: 2,014,705\n",
      "Trainable params: 42,305\n",
      "Non-trainable params: 1,972,400\n",
      "_________________________________________________________________\n"
     ]
    }
   ],
   "source": [
    "model.summary()\n",
    "\n",
    "#output shape: batch * max_len of a sentence * vectors for one word"
   ]
  },
  {
   "cell_type": "code",
   "execution_count": 153,
   "metadata": {},
   "outputs": [
    {
     "name": "stdout",
     "output_type": "stream",
     "text": [
      "Shape of train (6471, 50)\n",
      "Shape of Validation  (1142, 50)\n"
     ]
    }
   ],
   "source": [
    "train_data_num = train_tweets.shape[0]\n",
    "\n",
    "#seperate train and test\n",
    "train = tweet_pad[: train_data_num]\n",
    "test = tweet_pad[train_data_num: ]\n",
    "\n",
    "#seperate train data into train and validation\n",
    "X_train, X_test, y_train, y_test = train_test_split(train, train_tweets['target'].values, test_size=0.15)\n",
    "print('Shape of train', X_train.shape)\n",
    "print(\"Shape of Validation \", X_test.shape)"
   ]
  },
  {
   "cell_type": "code",
   "execution_count": 154,
   "metadata": {},
   "outputs": [
    {
     "name": "stdout",
     "output_type": "stream",
     "text": [
      "Epoch 1/15\n",
      "1618/1618 - 55s - loss: 0.6900 - accuracy: 0.5688 - val_loss: 0.6723 - val_accuracy: 0.5736\n",
      "Epoch 2/15\n",
      "1618/1618 - 52s - loss: 0.5708 - accuracy: 0.7323 - val_loss: 0.5223 - val_accuracy: 0.7697\n",
      "Epoch 3/15\n",
      "1618/1618 - 50s - loss: 0.5300 - accuracy: 0.7574 - val_loss: 0.5063 - val_accuracy: 0.7758\n",
      "Epoch 4/15\n",
      "1618/1618 - 52s - loss: 0.5176 - accuracy: 0.7659 - val_loss: 0.4963 - val_accuracy: 0.7811\n",
      "Epoch 5/15\n",
      "1618/1618 - 53s - loss: 0.5089 - accuracy: 0.7727 - val_loss: 0.4890 - val_accuracy: 0.7837\n",
      "Epoch 6/15\n",
      "1618/1618 - 52s - loss: 0.5026 - accuracy: 0.7759 - val_loss: 0.4857 - val_accuracy: 0.7863\n",
      "Epoch 7/15\n",
      "1618/1618 - 51s - loss: 0.5003 - accuracy: 0.7769 - val_loss: 0.4803 - val_accuracy: 0.7881\n",
      "Epoch 8/15\n",
      "1618/1618 - 50s - loss: 0.4901 - accuracy: 0.7830 - val_loss: 0.4752 - val_accuracy: 0.7881\n",
      "Epoch 9/15\n",
      "1618/1618 - 51s - loss: 0.4902 - accuracy: 0.7773 - val_loss: 0.4701 - val_accuracy: 0.7890\n",
      "Epoch 10/15\n",
      "1618/1618 - 50s - loss: 0.4840 - accuracy: 0.7843 - val_loss: 0.4722 - val_accuracy: 0.7890\n",
      "Epoch 11/15\n",
      "1618/1618 - 50s - loss: 0.4819 - accuracy: 0.7855 - val_loss: 0.4710 - val_accuracy: 0.7916\n",
      "Epoch 12/15\n",
      "1618/1618 - 50s - loss: 0.4807 - accuracy: 0.7833 - val_loss: 0.4653 - val_accuracy: 0.7898\n",
      "Epoch 13/15\n",
      "1618/1618 - 51s - loss: 0.4790 - accuracy: 0.7870 - val_loss: 0.4611 - val_accuracy: 0.7872\n",
      "Epoch 14/15\n",
      "1618/1618 - 50s - loss: 0.4804 - accuracy: 0.7844 - val_loss: 0.4596 - val_accuracy: 0.7881\n",
      "Epoch 15/15\n",
      "1618/1618 - 50s - loss: 0.4693 - accuracy: 0.7921 - val_loss: 0.4578 - val_accuracy: 0.7898\n"
     ]
    }
   ],
   "source": [
    "history = model.fit(X_train, y_train ,batch_size=4, epochs=15, validation_data = (X_test, y_test), verbose=2)"
   ]
  },
  {
   "cell_type": "code",
   "execution_count": 160,
   "metadata": {},
   "outputs": [
    {
     "data": {
      "text/plain": [
       "{'loss': [0.6899847984313965,\n",
       "  0.5708134770393372,\n",
       "  0.5300047993659973,\n",
       "  0.5176488161087036,\n",
       "  0.5088512301445007,\n",
       "  0.5026304125785828,\n",
       "  0.5003452897071838,\n",
       "  0.49012240767478943,\n",
       "  0.49016574025154114,\n",
       "  0.48404401540756226,\n",
       "  0.4818706512451172,\n",
       "  0.4806632101535797,\n",
       "  0.4789738059043884,\n",
       "  0.48043280839920044,\n",
       "  0.469277024269104],\n",
       " 'accuracy': [0.5688456296920776,\n",
       "  0.7323443293571472,\n",
       "  0.7573790550231934,\n",
       "  0.7658785581588745,\n",
       "  0.7726780772209167,\n",
       "  0.7759233713150024,\n",
       "  0.7768505811691284,\n",
       "  0.7830320000648499,\n",
       "  0.7773141860961914,\n",
       "  0.7842682600021362,\n",
       "  0.7855045795440674,\n",
       "  0.7833410501480103,\n",
       "  0.7870498895645142,\n",
       "  0.7844228148460388,\n",
       "  0.7921496033668518],\n",
       " 'val_loss': [0.6723041534423828,\n",
       "  0.5222788453102112,\n",
       "  0.5062822103500366,\n",
       "  0.4962734282016754,\n",
       "  0.48901090025901794,\n",
       "  0.48565924167633057,\n",
       "  0.480316698551178,\n",
       "  0.47516265511512756,\n",
       "  0.4700588285923004,\n",
       "  0.4721943736076355,\n",
       "  0.47096678614616394,\n",
       "  0.4653335213661194,\n",
       "  0.46109750866889954,\n",
       "  0.4596235454082489,\n",
       "  0.45781540870666504],\n",
       " 'val_accuracy': [0.5735551714897156,\n",
       "  0.7697022557258606,\n",
       "  0.7758318781852722,\n",
       "  0.7810857892036438,\n",
       "  0.7837128043174744,\n",
       "  0.7863397598266602,\n",
       "  0.7880910634994507,\n",
       "  0.7880910634994507,\n",
       "  0.788966715335846,\n",
       "  0.788966715335846,\n",
       "  0.7915936708450317,\n",
       "  0.7898423671722412,\n",
       "  0.7872154116630554,\n",
       "  0.7880910634994507,\n",
       "  0.7898423671722412]}"
      ]
     },
     "execution_count": 160,
     "metadata": {},
     "output_type": "execute_result"
    }
   ],
   "source": [
    "history.history"
   ]
  },
  {
   "cell_type": "code",
   "execution_count": 175,
   "metadata": {},
   "outputs": [
    {
     "data": {
      "text/plain": [
       "Text(0.5, 0.98, 'Unidirectional LSTM')"
      ]
     },
     "execution_count": 175,
     "metadata": {},
     "output_type": "execute_result"
    },
    {
     "data": {
      "image/png": "[encoded data removed]",
      "text/plain": [
       "<Figure size 720x360 with 2 Axes>"
      ]
     },
     "metadata": {
      "needs_background": "light"
     },
     "output_type": "display_data"
    }
   ],
   "source": [
    "fig, (ax1, ax2) = plt.subplots(1, 2, figsize = (10, 5))\n",
    "ax1.plot(history.history['loss'])\n",
    "ax1.plot(history.history['val_loss'])\n",
    "ax1.set_title('Loss')\n",
    "ax2.plot(history.history['accuracy'])\n",
    "ax2.plot(history.history['val_accuracy'])\n",
    "ax2.set_title('Accuracy')\n",
    "fig.suptitle('Unidirectional LSTM')"
   ]
  },
  {
   "cell_type": "markdown",
   "metadata": {},
   "source": [
    "### Bidirectional LSTM"
   ]
  },
  {
   "cell_type": "code",
   "execution_count": 173,
   "metadata": {},
   "outputs": [
    {
     "name": "stdout",
     "output_type": "stream",
     "text": [
      "Model: \"sequential_5\"\n",
      "_________________________________________________________________\n",
      "Layer (type)                 Output Shape              Param #   \n",
      "=================================================================\n",
      "embedding_5 (Embedding)      (None, 50, 100)           1972400   \n",
      "_________________________________________________________________\n",
      "spatial_dropout1d_4 (Spatial (None, 50, 100)           0         \n",
      "_________________________________________________________________\n",
      "bidirectional_2 (Bidirection (None, 128)               84480     \n",
      "_________________________________________________________________\n",
      "dense_4 (Dense)              (None, 1)                 129       \n",
      "=================================================================\n",
      "Total params: 2,057,009\n",
      "Trainable params: 84,609\n",
      "Non-trainable params: 1,972,400\n",
      "_________________________________________________________________\n"
     ]
    }
   ],
   "source": [
    "bi_model = Sequential()\n",
    "\n",
    "embedding=Embedding(num_words+1, 100, embeddings_initializer = Constant(embedding_matrix), input_length = MAX_LEN,trainable = False)\n",
    "\n",
    "bi_model.add(embedding)\n",
    "bi_model.add(SpatialDropout1D(0.2))\n",
    "bi_model.add(Bidirectional(LSTM(64, dropout = 0.2, recurrent_dropout=0.2)))\n",
    "bi_model.add(Dense(1, activation = 'sigmoid'))\n",
    "\n",
    "\n",
    "optimzer = Adam(learning_rate = 1e-5)\n",
    "\n",
    "bi_model.compile(loss = 'binary_crossentropy',optimizer = optimzer,metrics = ['accuracy'])\n",
    "\n",
    "bi_model.summary()"
   ]
  },
  {
   "cell_type": "code",
   "execution_count": 174,
   "metadata": {},
   "outputs": [
    {
     "name": "stdout",
     "output_type": "stream",
     "text": [
      "Epoch 1/15\n",
      "1618/1618 - 77s - loss: 0.6733 - accuracy: 0.6101 - val_loss: 0.6484 - val_accuracy: 0.6681\n",
      "Epoch 2/15\n",
      "1618/1618 - 74s - loss: 0.5723 - accuracy: 0.7371 - val_loss: 0.5101 - val_accuracy: 0.7741\n",
      "Epoch 3/15\n",
      "1618/1618 - 74s - loss: 0.5196 - accuracy: 0.7619 - val_loss: 0.4926 - val_accuracy: 0.7706\n",
      "Epoch 4/15\n",
      "1618/1618 - 76s - loss: 0.5072 - accuracy: 0.7648 - val_loss: 0.4817 - val_accuracy: 0.7820\n",
      "Epoch 5/15\n",
      "1618/1618 - 74s - loss: 0.4915 - accuracy: 0.7781 - val_loss: 0.4724 - val_accuracy: 0.7855\n",
      "Epoch 6/15\n",
      "1618/1618 - 74s - loss: 0.4849 - accuracy: 0.7798 - val_loss: 0.4673 - val_accuracy: 0.7846\n",
      "Epoch 7/15\n",
      "1618/1618 - 76s - loss: 0.4780 - accuracy: 0.7843 - val_loss: 0.4600 - val_accuracy: 0.7933\n",
      "Epoch 8/15\n",
      "1618/1618 - 74s - loss: 0.4768 - accuracy: 0.7821 - val_loss: 0.4574 - val_accuracy: 0.7925\n",
      "Epoch 9/15\n",
      "1618/1618 - 75s - loss: 0.4745 - accuracy: 0.7815 - val_loss: 0.4540 - val_accuracy: 0.7916\n",
      "Epoch 10/15\n",
      "1618/1618 - 75s - loss: 0.4678 - accuracy: 0.7846 - val_loss: 0.4541 - val_accuracy: 0.7925\n",
      "Epoch 11/15\n",
      "1618/1618 - 75s - loss: 0.4662 - accuracy: 0.7863 - val_loss: 0.4526 - val_accuracy: 0.7951\n",
      "Epoch 12/15\n",
      "1618/1618 - 74s - loss: 0.4571 - accuracy: 0.7960 - val_loss: 0.4516 - val_accuracy: 0.7942\n",
      "Epoch 13/15\n",
      "1618/1618 - 75s - loss: 0.4594 - accuracy: 0.7915 - val_loss: 0.4470 - val_accuracy: 0.7968\n",
      "Epoch 14/15\n",
      "1618/1618 - 75s - loss: 0.4646 - accuracy: 0.7897 - val_loss: 0.4474 - val_accuracy: 0.7951\n",
      "Epoch 15/15\n",
      "1618/1618 - 74s - loss: 0.4550 - accuracy: 0.7999 - val_loss: 0.4482 - val_accuracy: 0.7977\n"
     ]
    }
   ],
   "source": [
    "bi_history = bi_model.fit(X_train, y_train ,batch_size=4, epochs=15, validation_data = (X_test, y_test), verbose=2)"
   ]
  },
  {
   "cell_type": "code",
   "execution_count": 176,
   "metadata": {},
   "outputs": [
    {
     "data": {
      "text/plain": [
       "Text(0.5, 0.98, 'Bidirectional LSTM')"
      ]
     },
     "execution_count": 176,
     "metadata": {},
     "output_type": "execute_result"
    },
    {
     "data": {
      "image/png": "[encoded data removed]",
      "text/plain": [
       "<Figure size 720x360 with 2 Axes>"
      ]
     },
     "metadata": {
      "needs_background": "light"
     },
     "output_type": "display_data"
    }
   ],
   "source": [
    "fig, (ax1, ax2) = plt.subplots(1, 2, figsize = (10, 5))\n",
    "ax1.plot(bi_history.history['loss'])\n",
    "ax1.plot(bi_history.history['val_loss'])\n",
    "ax1.set_title('Loss')\n",
    "ax2.plot(bi_history.history['accuracy'])\n",
    "ax2.plot(bi_history.history['val_accuracy'])\n",
    "ax2.set_title('Accuracy')\n",
    "fig.suptitle('Bidirectional LSTM')"
   ]
  },
  {
   "cell_type": "markdown",
   "metadata": {},
   "source": [
    "### BERT"
   ]
  },
  {
   "cell_type": "code",
   "execution_count": 38,
   "metadata": {},
   "outputs": [
    {
     "name": "stdout",
     "output_type": "stream",
     "text": [
      "CPU times: user 4.7 s, sys: 677 ms, total: 5.38 s\n",
      "Wall time: 5.6 s\n"
     ]
    }
   ],
   "source": [
    "%%time\n",
    "\n",
    "\n",
    "bert_layer = hub.KerasLayer('https://tfhub.dev/tensorflow/bert_en_uncased_L-12_H-768_A-12/1', trainable=True)"
   ]
  },
  {
   "cell_type": "code",
   "execution_count": 195,
   "metadata": {},
   "outputs": [],
   "source": [
    "# We will use the official tokenization script created by the Google team\n",
    "!wget --quiet https://raw.githubusercontent.com/tensorflow/models/master/official/nlp/bert/tokenization.py"
   ]
  },
  {
   "cell_type": "code",
   "execution_count": 40,
   "metadata": {},
   "outputs": [],
   "source": [
    "import tokenization"
   ]
  },
  {
   "cell_type": "code",
   "execution_count": 41,
   "metadata": {},
   "outputs": [],
   "source": [
    "def bert_encode(texts, tokenizer, max_len):\n",
    "    all_tokens = []\n",
    "    all_masks = []\n",
    "    all_segments = []\n",
    "    \n",
    "    for text in texts:\n",
    "        text = tokenizer.tokenize(text)\n",
    "            \n",
    "        text = text[:max_len-2]\n",
    "        input_sequence = [\"[CLS]\"] + text + [\"[SEP]\"]\n",
    "        pad_len = max_len - len(input_sequence)\n",
    "        \n",
    "        tokens = tokenizer.convert_tokens_to_ids(input_sequence)\n",
    "        tokens += [0] * pad_len\n",
    "        pad_masks = [1] * len(input_sequence) + [0] * pad_len\n",
    "        segment_ids = [0] * max_len\n",
    "        \n",
    "        all_tokens.append(tokens)\n",
    "        all_masks.append(pad_masks)\n",
    "        all_segments.append(segment_ids)\n",
    "    \n",
    "    return np.array(all_tokens), np.array(all_masks), np.array(all_segments)"
   ]
  },
  {
   "cell_type": "code",
   "execution_count": 42,
   "metadata": {},
   "outputs": [],
   "source": [
    "def build_model(bert_layer, max_len):\n",
    "    input_word_ids = Input(shape=(max_len,), dtype=tf.int32, name=\"input_word_ids\")\n",
    "    input_mask = Input(shape=(max_len,), dtype=tf.int32, name=\"input_mask\")\n",
    "    segment_ids = Input(shape=(max_len,), dtype=tf.int32, name=\"segment_ids\")\n",
    "\n",
    "    _, sequence_output = bert_layer([input_word_ids, input_mask, segment_ids])\n",
    "    clf_output = sequence_output[:, 0, :]\n",
    "    \n",
    "    if Dropout_num == 0:\n",
    "        # Without Dropout\n",
    "        out = Dense(1, activation='sigmoid')(clf_output)\n",
    "    else:\n",
    "        # With Dropout(Dropout_num), Dropout_num > 0\n",
    "        x = Dropout(Dropout_num)(clf_output)\n",
    "        out = Dense(1, activation='sigmoid')(x)\n",
    "\n",
    "    model = Model(inputs=[input_word_ids, input_mask, segment_ids], outputs=out)\n",
    "    model.compile(Adam(lr=learning_rate), loss='binary_crossentropy', metrics=['accuracy'])\n",
    "    \n",
    "    return model"
   ]
  },
  {
   "cell_type": "code",
   "execution_count": 43,
   "metadata": {},
   "outputs": [],
   "source": [
    "# Load tokenizer from the bert layer\n",
    "vocab_file = bert_layer.resolved_object.vocab_file.asset_path.numpy()\n",
    "do_lower_case = bert_layer.resolved_object.do_lower_case.numpy()\n",
    "tokenizer = tokenization.FullTokenizer(vocab_file, do_lower_case)"
   ]
  },
  {
   "cell_type": "code",
   "execution_count": 50,
   "metadata": {},
   "outputs": [],
   "source": [
    "train_data_num = train_tweets.shape[0]\n",
    "\n",
    "#seperate train and test\n",
    "train_bert = data[: train_data_num]\n",
    "test_bert = data[train_data_num: ]\n",
    "\n",
    "#seperate train data into train and validation\n",
    "# X_train_bert, X_test_bert, y_train_bert, y_test_bert = train_test_split(train_bert, train_tweets['target'].values, test_size = 0.15)\n",
    "# print('Shape of train', X_train_bert.shape)\n",
    "# print(\"Shape of Validation \", X_test_bert.shape)"
   ]
  },
  {
   "cell_type": "code",
   "execution_count": 60,
   "metadata": {},
   "outputs": [
    {
     "data": {
      "text/html": [
       "<div>\n",
       "<style scoped>\n",
       "    .dataframe tbody tr th:only-of-type {\n",
       "        vertical-align: middle;\n",
       "    }\n",
       "\n",
       "    .dataframe tbody tr th {\n",
       "        vertical-align: top;\n",
       "    }\n",
       "\n",
       "    .dataframe thead th {\n",
       "        text-align: right;\n",
       "    }\n",
       "</style>\n",
       "<table border=\"1\" class=\"dataframe\">\n",
       "  <thead>\n",
       "    <tr style=\"text-align: right;\">\n",
       "      <th></th>\n",
       "      <th>id</th>\n",
       "      <th>keyword</th>\n",
       "      <th>location</th>\n",
       "      <th>text</th>\n",
       "      <th>target</th>\n",
       "    </tr>\n",
       "  </thead>\n",
       "  <tbody>\n",
       "    <tr>\n",
       "      <th>0</th>\n",
       "      <td>1</td>\n",
       "      <td>NaN</td>\n",
       "      <td>NaN</td>\n",
       "      <td>Our Deeds are the Reason of this earthquake Ma...</td>\n",
       "      <td>1.0</td>\n",
       "    </tr>\n",
       "    <tr>\n",
       "      <th>1</th>\n",
       "      <td>4</td>\n",
       "      <td>NaN</td>\n",
       "      <td>NaN</td>\n",
       "      <td>Forest fire near La Ronge Sask Canada</td>\n",
       "      <td>1.0</td>\n",
       "    </tr>\n",
       "    <tr>\n",
       "      <th>2</th>\n",
       "      <td>5</td>\n",
       "      <td>NaN</td>\n",
       "      <td>NaN</td>\n",
       "      <td>All residents asked to shelter in place are be...</td>\n",
       "      <td>1.0</td>\n",
       "    </tr>\n",
       "    <tr>\n",
       "      <th>3</th>\n",
       "      <td>6</td>\n",
       "      <td>NaN</td>\n",
       "      <td>NaN</td>\n",
       "      <td>13000 people receive wildfires evacuation orde...</td>\n",
       "      <td>1.0</td>\n",
       "    </tr>\n",
       "    <tr>\n",
       "      <th>4</th>\n",
       "      <td>7</td>\n",
       "      <td>NaN</td>\n",
       "      <td>NaN</td>\n",
       "      <td>Just got sent this photo from Ruby Alaska as s...</td>\n",
       "      <td>1.0</td>\n",
       "    </tr>\n",
       "  </tbody>\n",
       "</table>\n",
       "</div>"
      ],
      "text/plain": [
       "   id keyword location                                               text  \\\n",
       "0   1     NaN      NaN  Our Deeds are the Reason of this earthquake Ma...   \n",
       "1   4     NaN      NaN              Forest fire near La Ronge Sask Canada   \n",
       "2   5     NaN      NaN  All residents asked to shelter in place are be...   \n",
       "3   6     NaN      NaN  13000 people receive wildfires evacuation orde...   \n",
       "4   7     NaN      NaN  Just got sent this photo from Ruby Alaska as s...   \n",
       "\n",
       "   target  \n",
       "0     1.0  \n",
       "1     1.0  \n",
       "2     1.0  \n",
       "3     1.0  \n",
       "4     1.0  "
      ]
     },
     "execution_count": 60,
     "metadata": {},
     "output_type": "execute_result"
    }
   ],
   "source": [
    "train_bert.head()"
   ]
  },
  {
   "cell_type": "code",
   "execution_count": 62,
   "metadata": {},
   "outputs": [
    {
     "data": {
      "text/plain": [
       "(7613, 5)"
      ]
     },
     "execution_count": 62,
     "metadata": {},
     "output_type": "execute_result"
    }
   ],
   "source": [
    "train_bert.shape"
   ]
  },
  {
   "cell_type": "code",
   "execution_count": 52,
   "metadata": {},
   "outputs": [],
   "source": [
    "# Encode the text into tokens, masks, and segment flags\n",
    "train_input = bert_encode(train_bert.text.values, tokenizer, max_len=160)\n",
    "test_input = bert_encode(test_bert.text.values, tokenizer, max_len=160)\n",
    "train_labels = train_bert.target.values"
   ]
  },
  {
   "cell_type": "code",
   "execution_count": 57,
   "metadata": {},
   "outputs": [],
   "source": [
    "Dropout_num = 0\n",
    "learning_rate = 6e-6\n",
    "valid = 0.2\n",
    "epochs_num = 3\n",
    "batch_size_num = 16\n",
    "target_corrected = False\n",
    "target_big_corrected = False"
   ]
  },
  {
   "cell_type": "code",
   "execution_count": 58,
   "metadata": {},
   "outputs": [
    {
     "name": "stdout",
     "output_type": "stream",
     "text": [
      "Model: \"model_1\"\n",
      "__________________________________________________________________________________________________\n",
      "Layer (type)                    Output Shape         Param #     Connected to                     \n",
      "==================================================================================================\n",
      "input_word_ids (InputLayer)     [(None, 160)]        0                                            \n",
      "__________________________________________________________________________________________________\n",
      "input_mask (InputLayer)         [(None, 160)]        0                                            \n",
      "__________________________________________________________________________________________________\n",
      "segment_ids (InputLayer)        [(None, 160)]        0                                            \n",
      "__________________________________________________________________________________________________\n",
      "keras_layer (KerasLayer)        [(None, 768), (None, 109482241   input_word_ids[0][0]             \n",
      "                                                                 input_mask[0][0]                 \n",
      "                                                                 segment_ids[0][0]                \n",
      "__________________________________________________________________________________________________\n",
      "tf.__operators__.getitem_3 (Sli (None, 768)          0           keras_layer[3][1]                \n",
      "__________________________________________________________________________________________________\n",
      "dense_2 (Dense)                 (None, 1)            769         tf.__operators__.getitem_3[0][0] \n",
      "==================================================================================================\n",
      "Total params: 109,483,010\n",
      "Trainable params: 109,483,009\n",
      "Non-trainable params: 1\n",
      "__________________________________________________________________________________________________\n"
     ]
    }
   ],
   "source": [
    "model_BERT = build_model(bert_layer, max_len=160)\n",
    "model_BERT.summary()"
   ]
  },
  {
   "cell_type": "code",
   "execution_count": 63,
   "metadata": {},
   "outputs": [
    {
     "name": "stdout",
     "output_type": "stream",
     "text": [
      "Epoch 1/3\n",
      "381/381 [==============================] - 3113s 8s/step - loss: 0.4374 - accuracy: 0.8090 - val_loss: 0.3954 - val_accuracy: 0.8293\n",
      "Epoch 2/3\n",
      "381/381 [==============================] - 3325s 9s/step - loss: 0.3000 - accuracy: 0.8798 - val_loss: 0.4342 - val_accuracy: 0.8148\n",
      "Epoch 3/3\n",
      "381/381 [==============================] - 2980s 8s/step - loss: 0.1757 - accuracy: 0.9360 - val_loss: 0.4472 - val_accuracy: 0.8162\n"
     ]
    }
   ],
   "source": [
    "checkpoint = ModelCheckpoint('model_BERT.h5', monitor='val_loss', save_best_only=True)\n",
    "\n",
    "train_history = model_BERT.fit(\n",
    "    train_input, train_labels,\n",
    "    validation_split = valid,\n",
    "    epochs = epochs_num, # recomended 3-5 epochs\n",
    "    callbacks=[checkpoint],\n",
    "    batch_size = batch_size_num\n",
    ")"
   ]
  },
  {
   "cell_type": "code",
   "execution_count": 64,
   "metadata": {},
   "outputs": [
    {
     "data": {
      "text/plain": [
       "Text(0.5, 0.98, 'BERT')"
      ]
     },
     "execution_count": 64,
     "metadata": {},
     "output_type": "execute_result"
    },
    {
     "data": {
      "image/png": "[encoded data removed]",
      "text/plain": [
       "<Figure size 720x360 with 2 Axes>"
      ]
     },
     "metadata": {
      "needs_background": "light"
     },
     "output_type": "display_data"
    }
   ],
   "source": [
    "fig, (ax1, ax2) = plt.subplots(1, 2, figsize = (10, 5))\n",
    "ax1.plot(train_history.history['loss'])\n",
    "ax1.plot(train_history.history['val_loss'])\n",
    "ax1.set_title('Loss')\n",
    "ax2.plot(train_history.history['accuracy'])\n",
    "ax2.plot(train_history.history['val_accuracy'])\n",
    "ax2.set_title('Accuracy')\n",
    "fig.suptitle('BERT')"
   ]
  },
  {
   "cell_type": "code",
   "execution_count": null,
   "metadata": {},
   "outputs": [],
   "source": []
  }
 ],
 "metadata": {
  "kernelspec": {
   "display_name": "Python 3",
   "language": "python",
   "name": "python3"
  },
  "language_info": {
   "codemirror_mode": {
    "name": "ipython",
    "version": 3
   },
   "file_extension": ".py",
   "mimetype": "text/x-python",
   "name": "python",
   "nbconvert_exporter": "python",
   "pygments_lexer": "ipython3",
   "version": "3.7.6"
  }
 },
 "nbformat": 4,
 "nbformat_minor": 4
}
